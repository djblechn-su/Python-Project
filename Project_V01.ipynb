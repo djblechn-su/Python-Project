{
 "cells": [
  {
   "cell_type": "code",
   "execution_count": 385,
   "metadata": {},
   "outputs": [],
   "source": [
    "# ! pip install get_nba_data\n",
    "# ! pip install nba_py\n",
    "# ! pip install nba_api\n",
    "import requests\n",
    "import json\n",
    "import pandas\n",
    "import numpy\n",
    "#import get_nba_data\n",
    "#import nba_py\n",
    "import nba_api"
   ]
  },
  {
   "cell_type": "code",
   "execution_count": 386,
   "metadata": {},
   "outputs": [],
   "source": [
    "from nba_api.stats.endpoints import leaguedashplayerstats\n",
    "playerinfo = leaguedashplayerstats.LeagueDashPlayerStats(per_mode_detailed = 'PerGame', season = '2018-19')\n",
    "catstats2018_2019 = playerinfo.get_data_frames()\n",
    "catstats2018_2019 = pandas.concat(catstats2018_2019)\n",
    "playerinfo = leaguedashplayerstats.LeagueDashPlayerStats(per_mode_detailed = 'PerGame', season = '2017-18')\n",
    "catstats2017_2018 = playerinfo.get_data_frames()\n",
    "catstats2017_2018 = pandas.concat(catstats2017_2018)\n",
    "playerinfo = leaguedashplayerstats.LeagueDashPlayerStats(per_mode_detailed = 'PerGame', season = '2016-17')\n",
    "catstats2016_2017 = playerinfo.get_data_frames()\n",
    "catstats2016_2017 = pandas.concat(catstats2016_2017)"
   ]
  },
  {
   "cell_type": "code",
   "execution_count": 387,
   "metadata": {},
   "outputs": [],
   "source": [
    "final2018_2019 = catstats2018_2019[['PLAYER_ID','PLAYER_NAME','TEAM_ABBREVIATION','GP','MIN','FGM','FGA','FG3M','FG3A','FTM','FTA',\n",
    " 'OREB','DREB','AST','STL','BLK','PF','TOV','PTS']]\n",
    "final2018_2019 = final2018_2019.add_suffix('_2018')\n",
    "final2017_2018 = catstats2017_2018[['PLAYER_ID','GP','MIN','FGM','FGA','FG3M','FG3A','FTM','FTA',\n",
    " 'OREB','DREB','AST','STL','BLK','PF','TOV','PTS']]\n",
    "final2017_2018 = final2017_2018.add_suffix('_2017')\n",
    "final2016_2017 = catstats2016_2017[['PLAYER_ID','GP','MIN','FGM','FGA','FG3M','FG3A','FTM','FTA',\n",
    " 'OREB','DREB','AST','STL','BLK','PF','TOV','PTS']]\n",
    "final2016_2017 = final2016_2017.add_suffix('_2016')\n",
    "final = final2018_2019.merge(final2017_2018, left_on='PLAYER_ID_2018', right_on='PLAYER_ID_2017', how='left')\n",
    "final = final.merge(final2016_2017, left_on='PLAYER_ID_2018', right_on='PLAYER_ID_2016', how='left')\n",
    "final['FTMiss_2018'] = final.apply(lambda row: row.FTA_2018 - row.FTM_2018, axis=1)\n",
    "final['FTMiss_2017'] = final.apply(lambda row: row.FTA_2017 - row.FTM_2017, axis=1)\n",
    "final['FTMiss_2016'] = final.apply(lambda row: row.FTA_2016 - row.FTM_2016, axis=1)\n",
    "final['FG3Miss_2018'] = final.apply(lambda row: row.FG3A_2018 - row.FG3M_2018, axis=1)\n",
    "final['FG3Miss_2017'] = final.apply(lambda row: row.FG3A_2017 - row.FG3M_2017, axis=1)\n",
    "final['FG3Miss_2016'] = final.apply(lambda row: row.FG3A_2016 - row.FG3M_2016, axis=1)\n",
    "final['FG2Made_2018'] = final.apply(lambda row: row.FGM_2018 - row.FG3M_2018, axis=1)\n",
    "final['FG2A_2018'] = final.apply(lambda row: row.FGA_2018 - row.FG3A_2018, axis=1)\n",
    "final['FG2Miss_2018'] = final.apply(lambda row: row.FG2A_2018 - row.FG2Made_2018, axis=1)\n",
    "final['FG2Made_2017'] = final.apply(lambda row: row.FGM_2017 - row.FG3M_2017, axis=1)\n",
    "final['FG2A_2017'] = final.apply(lambda row: row.FGA_2017 - row.FG3A_2017, axis=1)\n",
    "final['FG2Miss_2017'] = final.apply(lambda row: row.FG2A_2017 - row.FG2Made_2017, axis=1)\n",
    "final['FG2Made_2016'] = final.apply(lambda row: row.FGM_2016 - row.FG3M_2016, axis=1)\n",
    "final['FG2A_2016'] = final.apply(lambda row: row.FGA_2016 - row.FG3A_2016, axis=1)\n",
    "final['FG2Miss_2016'] = final.apply(lambda row: row.FG2A_2016 - row.FG2Made_2016, axis=1)\n",
    "final.drop(['FG3A_2018', 'FG2A_2018', 'FTA_2018', 'FGM_2018', 'FGA_2018',\n",
    "            'FG3A_2017', 'FG2A_2017', 'FTA_2017', 'FGM_2017', 'FGA_2017', \n",
    "            'FG3A_2016', 'FG2A_2016', 'FTA_2016', 'FGM_2016', 'FGA_2016', \n",
    "            'PLAYER_ID_2017', 'PLAYER_ID_2016'], axis=1, inplace=True)\n",
    "final = final.rename(index=str,columns={'PLAYER_ID_2018': 'PLAYER_ID',\n",
    "                                        'PLAYER_NAME_2018':'PLAYER',\n",
    "                                        'TEAM_ABBREVIATION_2018':'TEAM',\n",
    "                                        'FTM_2018':'FTMade_2018', 'FTM_2017':'FTMade_2017', 'FTM_2016':'FTMade_2016',\n",
    "                                        'FG3M_2018':'FG3Made_2018', 'FG3M_2017':'FG3Made_2017', 'FG3M_2016':'FG3Made_2016'})"
   ]
  },
  {
   "cell_type": "code",
   "execution_count": 388,
   "metadata": {},
   "outputs": [],
   "source": [
    "from nba_api.stats.endpoints import leaguedashplayerbiostats\n",
    "playerinfo = leaguedashplayerbiostats.LeagueDashPlayerBioStats()\n",
    "PlayerBios = playerinfo.get_data_frames()\n",
    "PlayerBios = pandas.concat(PlayerBios)\n",
    "PlayerBios = PlayerBios[['PLAYER_ID','AGE','PLAYER_HEIGHT_INCHES','PLAYER_WEIGHT','COUNTRY','DRAFT_NUMBER']]\n",
    "PlayerBios['DRAFT_NUMBER'] = PlayerBios.DRAFT_NUMBER.replace('Undrafted','0')\n",
    "PlayerBios['DRAFT_NUMBER'] = PlayerBios['DRAFT_NUMBER'].astype(str).astype(int)\n",
    "PlayerBios = PlayerBios.rename(index=str,columns={'DRAFT_NUMBER': 'DRAFT'})\n",
    "final = final.merge(PlayerBios, left_on='PLAYER_ID', right_on='PLAYER_ID', how='left')"
   ]
  },
  {
   "cell_type": "code",
   "execution_count": 389,
   "metadata": {},
   "outputs": [],
   "source": [
    "Sals2018 = pandas.read_csv('2018Sals.csv', dtype={'CAP HIT':float})\n",
    "Sals2018 = Sals2018.rename(index=str,columns={'CAP HIT': 'PREV_SAL'})\n",
    "final = final.merge(Sals2018, left_on='PLAYER', right_on='PLAYER', how='inner')"
   ]
  },
  {
   "cell_type": "code",
   "execution_count": 390,
   "metadata": {},
   "outputs": [],
   "source": [
    "Sals2019 = pandas.read_csv('2019Sals.csv', dtype={'CAP HIT':float})\n",
    "Sals2019 = Sals2019.rename(index=str,columns={'CAP HIT': 'SAL'})\n",
    "Signed = final.merge(Sals2019, left_on='PLAYER', right_on='PLAYER', how='inner')"
   ]
  },
  {
   "cell_type": "code",
   "execution_count": 391,
   "metadata": {},
   "outputs": [],
   "source": [
    "FAs2019 = pandas.read_csv('FAs2019.csv')\n",
    "FAs2019 = FAs2019.rename(index=str,columns={'TEAM': 'PREV_TEAM'})\n",
    "FAs = final.merge(FAs2019, left_on='PLAYER', right_on='PLAYER', how='inner')"
   ]
  },
  {
   "cell_type": "code",
   "execution_count": 392,
   "metadata": {},
   "outputs": [],
   "source": [
    "Signed['PLAYER_WEIGHT'] = Signed.PLAYER_WEIGHT.astype(numpy.int64)\n",
    "FAs['PLAYER_WEIGHT'] = FAs.PLAYER_WEIGHT.astype(numpy.int64)"
   ]
  },
  {
   "cell_type": "code",
   "execution_count": 393,
   "metadata": {},
   "outputs": [],
   "source": [
    "Signed.loc[Signed['COUNTRY'] != 'USA', 'COUNTRY'] = '0'\n",
    "Signed.loc[Signed['COUNTRY'] == 'USA', 'COUNTRY'] = '1'\n",
    "FAs.loc[FAs['COUNTRY'] != 'USA', 'COUNTRY'] = '0'\n",
    "FAs.loc[FAs['COUNTRY'] == 'USA', 'COUNTRY'] = '1'"
   ]
  },
  {
   "cell_type": "code",
   "execution_count": 394,
   "metadata": {},
   "outputs": [],
   "source": [
    "Signed.loc[Signed['POS'] == 'PG', 'POS'] = '1'\n",
    "Signed.loc[Signed['POS'] == 'SG', 'POS'] = '2'\n",
    "Signed.loc[Signed['POS'] == 'SF', 'POS'] = '3'\n",
    "Signed.loc[Signed['POS'] == 'PF', 'POS'] = '4'\n",
    "Signed.loc[Signed['POS'] == 'C', 'POS'] = '5'\n",
    "FAs.loc[FAs['POS'] == 'PG', 'POS'] = '1'\n",
    "FAs.loc[FAs['POS'] == 'SG', 'POS'] = '2'\n",
    "FAs.loc[FAs['POS'] == 'SF', 'POS'] = '3'\n",
    "FAs.loc[FAs['POS'] == 'PF', 'POS'] = '4'\n",
    "FAs.loc[FAs['POS'] == 'C', 'POS'] = '5'"
   ]
  },
  {
   "cell_type": "code",
   "execution_count": 395,
   "metadata": {},
   "outputs": [],
   "source": [
    "Signed['COUNTRY'] = Signed.COUNTRY.astype(numpy.int64)\n",
    "Signed['POS'] = Signed.POS.astype(numpy.int64)\n",
    "Signed['DRAFT'] = Signed.DRAFT.astype(numpy.int64)\n",
    "FAs['COUNTRY'] = FAs.COUNTRY.astype(numpy.int64)\n",
    "FAs['POS'] = FAs.POS.astype(numpy.int64)\n",
    "FAs['DRAFT'] = FAs.DRAFT.astype(numpy.int64)"
   ]
  },
  {
   "cell_type": "code",
   "execution_count": 399,
   "metadata": {},
   "outputs": [],
   "source": [
    "Signed = Signed.fillna(0)\n",
    "FAs = FAs.fillna(0)"
   ]
  },
  {
   "cell_type": "code",
   "execution_count": 400,
   "metadata": {},
   "outputs": [
    {
     "data": {
      "application/vnd.jupyter.widget-view+json": {
       "model_id": "c1597b81576f4f5b94ea1d10b7a0ee11",
       "version_major": 2,
       "version_minor": 0
      },
      "text/plain": [
       "interactive(children=(Dropdown(description='Team: ', options=('ATL', 'BKN', 'BOS', 'CHA', 'CHI', 'CLE', 'DAL',…"
      ]
     },
     "metadata": {},
     "output_type": "display_data"
    },
    {
     "data": {
      "text/plain": [
       "<function __main__.view(Team)>"
      ]
     },
     "execution_count": 400,
     "metadata": {},
     "output_type": "execute_result"
    }
   ],
   "source": [
    "import ipywidgets as widgets\n",
    "from ipywidgets import interact\n",
    "def view(Team):\n",
    "    return Signed[Signed['TEAM'] == Team]\n",
    "\n",
    "team = widgets.Dropdown(\n",
    "    options = list(sorted(Signed['TEAM'].unique())),\n",
    "    description = 'Team: '\n",
    ")\n",
    "\n",
    "interact(view, Team = team)"
   ]
  },
  {
   "cell_type": "code",
   "execution_count": null,
   "metadata": {},
   "outputs": [],
   "source": []
  }
 ],
 "metadata": {
  "kernelspec": {
   "display_name": "Python 3",
   "language": "python",
   "name": "python3"
  },
  "language_info": {
   "codemirror_mode": {
    "name": "ipython",
    "version": 3
   },
   "file_extension": ".py",
   "mimetype": "text/x-python",
   "name": "python",
   "nbconvert_exporter": "python",
   "pygments_lexer": "ipython3",
   "version": "3.6.6"
  }
 },
 "nbformat": 4,
 "nbformat_minor": 2
}
